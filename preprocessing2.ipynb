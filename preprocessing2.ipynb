{
 "cells": [
  {
   "metadata": {
    "ExecuteTime": {
     "end_time": "2024-06-01T10:12:14.526788Z",
     "start_time": "2024-06-01T10:12:14.511767Z"
    }
   },
   "cell_type": "code",
   "source": "path = 'datasets/INA_TweetsPPKM_Labeled_Pure.csv'",
   "id": "9120871714ba0b6",
   "outputs": [],
   "execution_count": 257
  },
  {
   "metadata": {
    "ExecuteTime": {
     "end_time": "2024-06-01T10:12:14.640316Z",
     "start_time": "2024-06-01T10:12:14.546802Z"
    }
   },
   "cell_type": "code",
   "source": [
    "import pandas as pd\n",
    "import re\n",
    "\n",
    "df = pd.read_csv(path, sep='\t')\n",
    "df"
   ],
   "id": "1e378e90a00819d2",
   "outputs": [
    {
     "data": {
      "text/plain": [
       "                            Date           User  \\\n",
       "0      2022-03-31 14:32:04+00:00  pikobar_jabar   \n",
       "1      2022-03-31 09:26:00+00:00     inewsdotid   \n",
       "2      2022-03-31 05:02:34+00:00      vdvc_talk   \n",
       "3      2022-03-30 14:23:10+00:00  pikobar_jabar   \n",
       "4      2022-03-30 11:28:57+00:00      tvOneNews   \n",
       "...                          ...            ...   \n",
       "23639  2020-06-26 18:34:56+00:00    bananabluff   \n",
       "23640  2020-06-19 15:14:07+00:00        Auqroix   \n",
       "23641  2020-06-18 23:45:26+00:00        Auqroix   \n",
       "23642  2020-06-15 23:17:22+00:00        Auqroix   \n",
       "23643  2020-05-06 04:34:13+00:00   nindiiayudya   \n",
       "\n",
       "                                                   Tweet  sentiment  \n",
       "0      Ketahui informasi pembagian #PPKM di wilayah J...          1  \n",
       "1      Tempat Ibadah di Wilayah PPKM Level 1 Boleh Be...          1  \n",
       "2      Juru bicara Satgas Covid-19, Wiku Adisasmito m...          1  \n",
       "3      Ketahui informasi pembagian #PPKM di wilayah J...          1  \n",
       "4      Kementerian Agama menerbitkan Surat Edaran Nom...          1  \n",
       "...                                                  ...        ...  \n",
       "23639  noelle loses a bet to akarsha and it somehow e...          1  \n",
       "23640  they call her... weekeeshee...\\n#butterflysoup...          1  \n",
       "23641  put out what you wanna see more of, amirite ga...          1  \n",
       "23642  i don't need anybody, i'm fine here on my own\\...          1  \n",
       "23643  Selamat Siang sahabat online, nih aku sedikit ...          0  \n",
       "\n",
       "[23644 rows x 4 columns]"
      ],
      "text/html": [
       "<div>\n",
       "<style scoped>\n",
       "    .dataframe tbody tr th:only-of-type {\n",
       "        vertical-align: middle;\n",
       "    }\n",
       "\n",
       "    .dataframe tbody tr th {\n",
       "        vertical-align: top;\n",
       "    }\n",
       "\n",
       "    .dataframe thead th {\n",
       "        text-align: right;\n",
       "    }\n",
       "</style>\n",
       "<table border=\"1\" class=\"dataframe\">\n",
       "  <thead>\n",
       "    <tr style=\"text-align: right;\">\n",
       "      <th></th>\n",
       "      <th>Date</th>\n",
       "      <th>User</th>\n",
       "      <th>Tweet</th>\n",
       "      <th>sentiment</th>\n",
       "    </tr>\n",
       "  </thead>\n",
       "  <tbody>\n",
       "    <tr>\n",
       "      <th>0</th>\n",
       "      <td>2022-03-31 14:32:04+00:00</td>\n",
       "      <td>pikobar_jabar</td>\n",
       "      <td>Ketahui informasi pembagian #PPKM di wilayah J...</td>\n",
       "      <td>1</td>\n",
       "    </tr>\n",
       "    <tr>\n",
       "      <th>1</th>\n",
       "      <td>2022-03-31 09:26:00+00:00</td>\n",
       "      <td>inewsdotid</td>\n",
       "      <td>Tempat Ibadah di Wilayah PPKM Level 1 Boleh Be...</td>\n",
       "      <td>1</td>\n",
       "    </tr>\n",
       "    <tr>\n",
       "      <th>2</th>\n",
       "      <td>2022-03-31 05:02:34+00:00</td>\n",
       "      <td>vdvc_talk</td>\n",
       "      <td>Juru bicara Satgas Covid-19, Wiku Adisasmito m...</td>\n",
       "      <td>1</td>\n",
       "    </tr>\n",
       "    <tr>\n",
       "      <th>3</th>\n",
       "      <td>2022-03-30 14:23:10+00:00</td>\n",
       "      <td>pikobar_jabar</td>\n",
       "      <td>Ketahui informasi pembagian #PPKM di wilayah J...</td>\n",
       "      <td>1</td>\n",
       "    </tr>\n",
       "    <tr>\n",
       "      <th>4</th>\n",
       "      <td>2022-03-30 11:28:57+00:00</td>\n",
       "      <td>tvOneNews</td>\n",
       "      <td>Kementerian Agama menerbitkan Surat Edaran Nom...</td>\n",
       "      <td>1</td>\n",
       "    </tr>\n",
       "    <tr>\n",
       "      <th>...</th>\n",
       "      <td>...</td>\n",
       "      <td>...</td>\n",
       "      <td>...</td>\n",
       "      <td>...</td>\n",
       "    </tr>\n",
       "    <tr>\n",
       "      <th>23639</th>\n",
       "      <td>2020-06-26 18:34:56+00:00</td>\n",
       "      <td>bananabluff</td>\n",
       "      <td>noelle loses a bet to akarsha and it somehow e...</td>\n",
       "      <td>1</td>\n",
       "    </tr>\n",
       "    <tr>\n",
       "      <th>23640</th>\n",
       "      <td>2020-06-19 15:14:07+00:00</td>\n",
       "      <td>Auqroix</td>\n",
       "      <td>they call her... weekeeshee...\\n#butterflysoup...</td>\n",
       "      <td>1</td>\n",
       "    </tr>\n",
       "    <tr>\n",
       "      <th>23641</th>\n",
       "      <td>2020-06-18 23:45:26+00:00</td>\n",
       "      <td>Auqroix</td>\n",
       "      <td>put out what you wanna see more of, amirite ga...</td>\n",
       "      <td>1</td>\n",
       "    </tr>\n",
       "    <tr>\n",
       "      <th>23642</th>\n",
       "      <td>2020-06-15 23:17:22+00:00</td>\n",
       "      <td>Auqroix</td>\n",
       "      <td>i don't need anybody, i'm fine here on my own\\...</td>\n",
       "      <td>1</td>\n",
       "    </tr>\n",
       "    <tr>\n",
       "      <th>23643</th>\n",
       "      <td>2020-05-06 04:34:13+00:00</td>\n",
       "      <td>nindiiayudya</td>\n",
       "      <td>Selamat Siang sahabat online, nih aku sedikit ...</td>\n",
       "      <td>0</td>\n",
       "    </tr>\n",
       "  </tbody>\n",
       "</table>\n",
       "<p>23644 rows × 4 columns</p>\n",
       "</div>"
      ]
     },
     "execution_count": 258,
     "metadata": {},
     "output_type": "execute_result"
    }
   ],
   "execution_count": 258
  },
  {
   "metadata": {
    "ExecuteTime": {
     "end_time": "2024-06-01T10:12:14.656882Z",
     "start_time": "2024-06-01T10:12:14.641947Z"
    }
   },
   "cell_type": "code",
   "source": "df[df['Tweet'].str.contains('https?://\\S+')].shape",
   "id": "58207644a4824b44",
   "outputs": [
    {
     "data": {
      "text/plain": [
       "(18077, 4)"
      ]
     },
     "execution_count": 259,
     "metadata": {},
     "output_type": "execute_result"
    }
   ],
   "execution_count": 259
  },
  {
   "metadata": {
    "ExecuteTime": {
     "end_time": "2024-06-01T10:12:14.676560Z",
     "start_time": "2024-06-01T10:12:14.657619Z"
    }
   },
   "cell_type": "code",
   "source": "df['Tweet'] = df['Tweet'].apply(lambda x: re.sub(r'https?://\\S+', '', x))",
   "id": "5387ef6620f0676c",
   "outputs": [],
   "execution_count": 260
  },
  {
   "metadata": {
    "ExecuteTime": {
     "end_time": "2024-06-01T10:12:14.680834Z",
     "start_time": "2024-06-01T10:12:14.678096Z"
    }
   },
   "cell_type": "code",
   "source": [
    "import re\n",
    "import emoji\n",
    "\n",
    "\n",
    "def clean_text(text):\n",
    "    # Remove emojis\n",
    "    text = emoji.replace_emoji(text)\n",
    "    # Remove newlines\n",
    "    text = re.sub(r'\\n', ' ', text)\n",
    "    # Remove tabs\n",
    "    text = re.sub(r'\\t', ' ', text)\n",
    "    # Replace multiple spaces with a single space\n",
    "    text = re.sub(r'\\s+', ' ', text)\n",
    "    # Strip leading and trailing spaces\n",
    "    text = text.strip()\n",
    "    return text"
   ],
   "id": "68979e7d26817c16",
   "outputs": [],
   "execution_count": 261
  },
  {
   "metadata": {},
   "cell_type": "markdown",
   "source": "",
   "id": "c884c2ec30759dd1"
  },
  {
   "metadata": {
    "ExecuteTime": {
     "end_time": "2024-06-01T10:12:16.269692Z",
     "start_time": "2024-06-01T10:12:14.681638Z"
    }
   },
   "cell_type": "code",
   "source": "df['Tweet'] = df['Tweet'].apply(clean_text)",
   "id": "2078a8bd76022173",
   "outputs": [],
   "execution_count": 262
  },
  {
   "metadata": {
    "ExecuteTime": {
     "end_time": "2024-06-01T10:12:16.274059Z",
     "start_time": "2024-06-01T10:12:16.270728Z"
    }
   },
   "cell_type": "code",
   "source": "df['sentiment'].value_counts()",
   "id": "ba583e5e948ad16f",
   "outputs": [
    {
     "data": {
      "text/plain": [
       "sentiment\n",
       "1    17706\n",
       "2     3980\n",
       "0     1958\n",
       "Name: count, dtype: int64"
      ]
     },
     "execution_count": 263,
     "metadata": {},
     "output_type": "execute_result"
    }
   ],
   "execution_count": 263
  },
  {
   "metadata": {
    "ExecuteTime": {
     "end_time": "2024-06-01T10:12:16.289476Z",
     "start_time": "2024-06-01T10:12:16.275844Z"
    }
   },
   "cell_type": "code",
   "source": "df[df['Tweet'].str.contains('#[A-Za-z0-9_]+')]",
   "id": "72daf1aada3b5443",
   "outputs": [
    {
     "data": {
      "text/plain": [
       "                            Date           User  \\\n",
       "0      2022-03-31 14:32:04+00:00  pikobar_jabar   \n",
       "1      2022-03-31 09:26:00+00:00     inewsdotid   \n",
       "2      2022-03-31 05:02:34+00:00      vdvc_talk   \n",
       "3      2022-03-30 14:23:10+00:00  pikobar_jabar   \n",
       "4      2022-03-30 11:28:57+00:00      tvOneNews   \n",
       "...                          ...            ...   \n",
       "23639  2020-06-26 18:34:56+00:00    bananabluff   \n",
       "23640  2020-06-19 15:14:07+00:00        Auqroix   \n",
       "23641  2020-06-18 23:45:26+00:00        Auqroix   \n",
       "23642  2020-06-15 23:17:22+00:00        Auqroix   \n",
       "23643  2020-05-06 04:34:13+00:00   nindiiayudya   \n",
       "\n",
       "                                                   Tweet  sentiment  \n",
       "0      Ketahui informasi pembagian #PPKM di wilayah J...          1  \n",
       "1      Tempat Ibadah di Wilayah PPKM Level 1 Boleh Be...          1  \n",
       "2      Juru bicara Satgas Covid-19, Wiku Adisasmito m...          1  \n",
       "3      Ketahui informasi pembagian #PPKM di wilayah J...          1  \n",
       "4      Kementerian Agama menerbitkan Surat Edaran Nom...          1  \n",
       "...                                                  ...        ...  \n",
       "23639  noelle loses a bet to akarsha and it somehow e...          1  \n",
       "23640  they call her... weekeeshee... #butterflysoup ...          1  \n",
       "23641  put out what you wanna see more of, amirite ga...          1  \n",
       "23642  i don't need anybody, i'm fine here on my own ...          1  \n",
       "23643  Selamat Siang sahabat online, nih aku sedikit ...          0  \n",
       "\n",
       "[23641 rows x 4 columns]"
      ],
      "text/html": [
       "<div>\n",
       "<style scoped>\n",
       "    .dataframe tbody tr th:only-of-type {\n",
       "        vertical-align: middle;\n",
       "    }\n",
       "\n",
       "    .dataframe tbody tr th {\n",
       "        vertical-align: top;\n",
       "    }\n",
       "\n",
       "    .dataframe thead th {\n",
       "        text-align: right;\n",
       "    }\n",
       "</style>\n",
       "<table border=\"1\" class=\"dataframe\">\n",
       "  <thead>\n",
       "    <tr style=\"text-align: right;\">\n",
       "      <th></th>\n",
       "      <th>Date</th>\n",
       "      <th>User</th>\n",
       "      <th>Tweet</th>\n",
       "      <th>sentiment</th>\n",
       "    </tr>\n",
       "  </thead>\n",
       "  <tbody>\n",
       "    <tr>\n",
       "      <th>0</th>\n",
       "      <td>2022-03-31 14:32:04+00:00</td>\n",
       "      <td>pikobar_jabar</td>\n",
       "      <td>Ketahui informasi pembagian #PPKM di wilayah J...</td>\n",
       "      <td>1</td>\n",
       "    </tr>\n",
       "    <tr>\n",
       "      <th>1</th>\n",
       "      <td>2022-03-31 09:26:00+00:00</td>\n",
       "      <td>inewsdotid</td>\n",
       "      <td>Tempat Ibadah di Wilayah PPKM Level 1 Boleh Be...</td>\n",
       "      <td>1</td>\n",
       "    </tr>\n",
       "    <tr>\n",
       "      <th>2</th>\n",
       "      <td>2022-03-31 05:02:34+00:00</td>\n",
       "      <td>vdvc_talk</td>\n",
       "      <td>Juru bicara Satgas Covid-19, Wiku Adisasmito m...</td>\n",
       "      <td>1</td>\n",
       "    </tr>\n",
       "    <tr>\n",
       "      <th>3</th>\n",
       "      <td>2022-03-30 14:23:10+00:00</td>\n",
       "      <td>pikobar_jabar</td>\n",
       "      <td>Ketahui informasi pembagian #PPKM di wilayah J...</td>\n",
       "      <td>1</td>\n",
       "    </tr>\n",
       "    <tr>\n",
       "      <th>4</th>\n",
       "      <td>2022-03-30 11:28:57+00:00</td>\n",
       "      <td>tvOneNews</td>\n",
       "      <td>Kementerian Agama menerbitkan Surat Edaran Nom...</td>\n",
       "      <td>1</td>\n",
       "    </tr>\n",
       "    <tr>\n",
       "      <th>...</th>\n",
       "      <td>...</td>\n",
       "      <td>...</td>\n",
       "      <td>...</td>\n",
       "      <td>...</td>\n",
       "    </tr>\n",
       "    <tr>\n",
       "      <th>23639</th>\n",
       "      <td>2020-06-26 18:34:56+00:00</td>\n",
       "      <td>bananabluff</td>\n",
       "      <td>noelle loses a bet to akarsha and it somehow e...</td>\n",
       "      <td>1</td>\n",
       "    </tr>\n",
       "    <tr>\n",
       "      <th>23640</th>\n",
       "      <td>2020-06-19 15:14:07+00:00</td>\n",
       "      <td>Auqroix</td>\n",
       "      <td>they call her... weekeeshee... #butterflysoup ...</td>\n",
       "      <td>1</td>\n",
       "    </tr>\n",
       "    <tr>\n",
       "      <th>23641</th>\n",
       "      <td>2020-06-18 23:45:26+00:00</td>\n",
       "      <td>Auqroix</td>\n",
       "      <td>put out what you wanna see more of, amirite ga...</td>\n",
       "      <td>1</td>\n",
       "    </tr>\n",
       "    <tr>\n",
       "      <th>23642</th>\n",
       "      <td>2020-06-15 23:17:22+00:00</td>\n",
       "      <td>Auqroix</td>\n",
       "      <td>i don't need anybody, i'm fine here on my own ...</td>\n",
       "      <td>1</td>\n",
       "    </tr>\n",
       "    <tr>\n",
       "      <th>23643</th>\n",
       "      <td>2020-05-06 04:34:13+00:00</td>\n",
       "      <td>nindiiayudya</td>\n",
       "      <td>Selamat Siang sahabat online, nih aku sedikit ...</td>\n",
       "      <td>0</td>\n",
       "    </tr>\n",
       "  </tbody>\n",
       "</table>\n",
       "<p>23641 rows × 4 columns</p>\n",
       "</div>"
      ]
     },
     "execution_count": 264,
     "metadata": {},
     "output_type": "execute_result"
    }
   ],
   "execution_count": 264
  },
  {
   "metadata": {
    "ExecuteTime": {
     "end_time": "2024-06-01T10:12:16.292257Z",
     "start_time": "2024-06-01T10:12:16.290315Z"
    }
   },
   "cell_type": "code",
   "source": [
    "# def remove_hashtag_or_url_only(text):\n",
    "#     real_text = text\n",
    "#     # Remove hashtags\n",
    "#     text = re.sub(r'#[A-Za-z0-9_]+', '', text)\n",
    "#     # Remove URLs\n",
    "#     text = re.sub(r'[$URL]+', '', text)\n",
    "#     text = re.sub(r'\\s+', '', text)\n",
    "#     if not text.strip():\n",
    "#         return ''\n",
    "#     return real_text\n",
    "# \n",
    "# \n",
    "# df['Tweet'] = df['Tweet'].apply(remove_hashtag_or_url_only)\n",
    "# df.drop(df[df['Tweet'] == ''].index, inplace=True)\n",
    "# df"
   ],
   "id": "e8a2690de9d179ad",
   "outputs": [],
   "execution_count": 265
  },
  {
   "metadata": {
    "ExecuteTime": {
     "end_time": "2024-06-01T10:12:16.294733Z",
     "start_time": "2024-06-01T10:12:16.293050Z"
    }
   },
   "cell_type": "code",
   "source": [
    "# def remove_end_hashtags(text):\n",
    "#     middle_index = len(text) // 2\n",
    "#     # Extract hashtags from the second half of the text\n",
    "#     second_half = text[middle_index:]\n",
    "#     hashtags = re.findall(r'#[A-Za-z0-9_]+', second_half)\n",
    "#     if not hashtags:\n",
    "#         return text\n",
    "#     return text[:middle_index] + re.sub(r'#[A-Za-z0-9_]+', '', second_half)\n",
    "# \n",
    "# \n",
    "# # Apply the function to extract end hashtags\n",
    "# df['Tweet'] = df['Tweet'].apply(remove_end_hashtags)\n",
    "# df"
   ],
   "id": "9a79e23ed3ed86eb",
   "outputs": [],
   "execution_count": 266
  },
  {
   "metadata": {
    "ExecuteTime": {
     "end_time": "2024-06-01T10:12:16.364448Z",
     "start_time": "2024-06-01T10:12:16.295516Z"
    }
   },
   "cell_type": "code",
   "source": [
    "unique_hashtags = df['Tweet'].apply(lambda x: re.findall(r'#[A-Za-z0-9_]+', x))\n",
    "unique_hashtags = unique_hashtags[unique_hashtags.apply(lambda x: len(x) > 0)]\n",
    "unique_hashtags = unique_hashtags.explode().to_frame()\n",
    "unique_hashtags = unique_hashtags.astype({'Tweet': 'str'})\n",
    "unique_hashtags['Tweet'] = unique_hashtags['Tweet'].apply(lambda x: x.lower())\n",
    "unique_hashtags['Tweet'].value_counts()"
   ],
   "id": "30191899531b881",
   "outputs": [
    {
     "data": {
      "text/plain": [
       "Tweet\n",
       "#ppkm                  23786\n",
       "#covid19                3183\n",
       "#ppkmdarurat            1759\n",
       "#indonesia              1067\n",
       "#ppkmlevel4              778\n",
       "                       ...  \n",
       "#salimmegatamagroup        1\n",
       "#satuindonesiasatu         1\n",
       "#validriset                1\n",
       "#gba                       1\n",
       "#diyamin                   1\n",
       "Name: count, Length: 16154, dtype: int64"
      ]
     },
     "execution_count": 267,
     "metadata": {},
     "output_type": "execute_result"
    }
   ],
   "execution_count": 267
  },
  {
   "metadata": {
    "ExecuteTime": {
     "end_time": "2024-06-01T10:12:16.369838Z",
     "start_time": "2024-06-01T10:12:16.365348Z"
    }
   },
   "cell_type": "code",
   "source": [
    "df['raw_content'] = df['Tweet']\n",
    "df = df.drop('Tweet', axis=1)\n",
    "df['sentiment'] = df['sentiment'].map({0: 'negative', 1: 'neutral', 2: 'positive'})"
   ],
   "id": "416428b8009f997f",
   "outputs": [],
   "execution_count": 268
  },
  {
   "metadata": {
    "ExecuteTime": {
     "end_time": "2024-06-01T10:12:16.829698Z",
     "start_time": "2024-06-01T10:12:16.370570Z"
    }
   },
   "cell_type": "code",
   "source": [
    "import string\n",
    "\n",
    "\n",
    "def split_hashtag(hashtag):\n",
    "    words = re.findall(r'[A-Z]?[a-z]+|[A-Z]+(?=[A-Z]|$)', hashtag)\n",
    "    return ' '.join(words)\n",
    "\n",
    "\n",
    "def clean_text2(text):\n",
    "    if re.search(r'poker|jackpot|pulsa|domino|cashback|judi|bandar|agen|winrate', text.lower()):\n",
    "        return ''\n",
    "    text = ' '.join([split_hashtag(word) if word.startswith('#') else word for word in text.split()])\n",
    "    # Normalize ellipses\n",
    "    text = re.sub(r'\\.{2,}', ' . ', text)\n",
    "    # Handle repeated punctuation\n",
    "    text = re.sub(r'([!?.]){2,}', r'\\1', text)\n",
    "    # Ensure spacing around punctuation\n",
    "    text = re.sub(f'([{string.punctuation}])', r' \\1 ', text)\n",
    "    text = re.sub(r'\\s{2,}', ' ', text)\n",
    "    return text\n",
    "\n",
    "\n",
    "df['raw_content'] = df['raw_content'].apply(clean_text2)"
   ],
   "id": "daa3c5bb7fc3b7b7",
   "outputs": [],
   "execution_count": 269
  },
  {
   "metadata": {
    "ExecuteTime": {
     "end_time": "2024-06-01T10:12:16.834557Z",
     "start_time": "2024-06-01T10:12:16.830326Z"
    }
   },
   "cell_type": "code",
   "source": "df = df[df['raw_content'] != '']",
   "id": "badfa2b074ed0a6d",
   "outputs": [],
   "execution_count": 270
  },
  {
   "metadata": {
    "ExecuteTime": {
     "end_time": "2024-06-01T10:12:16.838196Z",
     "start_time": "2024-06-01T10:12:16.836765Z"
    }
   },
   "cell_type": "code",
   "source": [
    "# words = df['raw_content'].str.split().explode()\n",
    "# words = words.value_counts()\n",
    "# words = words[words > 512]\n",
    "# words"
   ],
   "id": "fe6a7c71ed4bcd71",
   "outputs": [],
   "execution_count": 271
  },
  {
   "metadata": {
    "ExecuteTime": {
     "end_time": "2024-06-01T10:12:16.846052Z",
     "start_time": "2024-06-01T10:12:16.838932Z"
    }
   },
   "cell_type": "code",
   "source": [
    "count = df[df['raw_content'].str.len() > 512].shape[0]\n",
    "count"
   ],
   "id": "1b8f99c39247653c",
   "outputs": [
    {
     "data": {
      "text/plain": [
       "0"
      ]
     },
     "execution_count": 272,
     "metadata": {},
     "output_type": "execute_result"
    }
   ],
   "execution_count": 272
  },
  {
   "metadata": {
    "ExecuteTime": {
     "end_time": "2024-06-01T10:12:16.854110Z",
     "start_time": "2024-06-01T10:12:16.846910Z"
    }
   },
   "cell_type": "code",
   "source": [
    "## random remove the neutral sentiment to balance the data\n",
    "df = df.drop(df[df['sentiment'] == 'neutral'].sample(frac=.78).index)"
   ],
   "id": "378d53d93d2701b2",
   "outputs": [],
   "execution_count": 273
  },
  {
   "metadata": {
    "ExecuteTime": {
     "end_time": "2024-06-01T10:12:16.858672Z",
     "start_time": "2024-06-01T10:12:16.855012Z"
    }
   },
   "cell_type": "code",
   "source": "df['sentiment'].value_counts()",
   "id": "aaa704d6d469d101",
   "outputs": [
    {
     "data": {
      "text/plain": [
       "sentiment\n",
       "positive    3962\n",
       "neutral     3843\n",
       "negative    1924\n",
       "Name: count, dtype: int64"
      ]
     },
     "execution_count": 274,
     "metadata": {},
     "output_type": "execute_result"
    }
   ],
   "execution_count": 274
  },
  {
   "metadata": {
    "ExecuteTime": {
     "end_time": "2024-06-01T10:12:16.874113Z",
     "start_time": "2024-06-01T10:12:16.859528Z"
    }
   },
   "cell_type": "code",
   "source": "df['raw_content'] = df['raw_content'].apply(lambda x: ' '.join(x.split()))",
   "id": "ba73ff479c5d7daa",
   "outputs": [],
   "execution_count": 275
  },
  {
   "metadata": {
    "ExecuteTime": {
     "end_time": "2024-06-01T10:12:16.887586Z",
     "start_time": "2024-06-01T10:12:16.875107Z"
    }
   },
   "cell_type": "code",
   "source": [
    "with open('datasets/tweets_ppkm_clean.json', 'w') as f:\n",
    "    df.to_json(f, orient='records')"
   ],
   "id": "5128f208d535fdd",
   "outputs": [],
   "execution_count": 276
  }
 ],
 "metadata": {
  "kernelspec": {
   "display_name": "Python 3",
   "language": "python",
   "name": "python3"
  },
  "language_info": {
   "codemirror_mode": {
    "name": "ipython",
    "version": 2
   },
   "file_extension": ".py",
   "mimetype": "text/x-python",
   "name": "python",
   "nbconvert_exporter": "python",
   "pygments_lexer": "ipython2",
   "version": "2.7.6"
  }
 },
 "nbformat": 4,
 "nbformat_minor": 5
}
